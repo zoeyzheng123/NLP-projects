{
 "cells": [
  {
   "cell_type": "markdown",
   "metadata": {},
   "source": [
    "## Step 0: Latent Dirichlet Allocation ##\n",
    "\n",
    "LDA is used to classify text in a document to a particular topic. It builds a topic per document model and words per topic model, modeled as Dirichlet distributions. \n",
    "\n",
    "* Each document is modeled as a multinomial distribution of topics and each topic is modeled as a multinomial distribution of words.\n",
    "* LDA assumes that the every chunk of text we feed into it will contain words that are somehow related. Therefore choosing the right corpus of data is crucial. \n",
    "* It also assumes documents are produced from a mixture of topics. Those topics then generate words based on their probability distribution. "
   ]
  },
  {
   "cell_type": "markdown",
   "metadata": {},
   "source": [
    "## Step 1: Load the dataset\n",
    "\n",
    "The dataset we'll use is a list of over one million news headlines published over a period of 15 years. We'll start by loading it from the `abcnews-date-text.csv` file."
   ]
  },
  {
   "cell_type": "code",
   "execution_count": 1,
   "metadata": {},
   "outputs": [],
   "source": [
    "'''\n",
    "Load the dataset from the CSV and save it to 'data_text'\n",
    "'''\n",
    "import pandas as pd\n",
    "data = pd.read_csv('abcnews-date-text.csv', error_bad_lines=False);\n",
    "# We only need the Headlines text column from the data\n",
    "data_text = data[:300000][['headline_text']];\n",
    "data_text['index'] = data_text.index\n",
    "\n",
    "documents = data_text"
   ]
  },
  {
   "cell_type": "markdown",
   "metadata": {},
   "source": [
    "Let's glance at the dataset:"
   ]
  },
  {
   "cell_type": "code",
   "execution_count": 2,
   "metadata": {},
   "outputs": [
    {
     "name": "stdout",
     "output_type": "stream",
     "text": [
      "300000\n"
     ]
    }
   ],
   "source": [
    "'''\n",
    "Get the total number of documents\n",
    "'''\n",
    "print(len(documents))"
   ]
  },
  {
   "cell_type": "code",
   "execution_count": 3,
   "metadata": {},
   "outputs": [
    {
     "data": {
      "text/html": [
       "<div>\n",
       "<style scoped>\n",
       "    .dataframe tbody tr th:only-of-type {\n",
       "        vertical-align: middle;\n",
       "    }\n",
       "\n",
       "    .dataframe tbody tr th {\n",
       "        vertical-align: top;\n",
       "    }\n",
       "\n",
       "    .dataframe thead th {\n",
       "        text-align: right;\n",
       "    }\n",
       "</style>\n",
       "<table border=\"1\" class=\"dataframe\">\n",
       "  <thead>\n",
       "    <tr style=\"text-align: right;\">\n",
       "      <th></th>\n",
       "      <th>headline_text</th>\n",
       "      <th>index</th>\n",
       "    </tr>\n",
       "  </thead>\n",
       "  <tbody>\n",
       "    <tr>\n",
       "      <th>0</th>\n",
       "      <td>aba decides against community broadcasting lic...</td>\n",
       "      <td>0</td>\n",
       "    </tr>\n",
       "    <tr>\n",
       "      <th>1</th>\n",
       "      <td>act fire witnesses must be aware of defamation</td>\n",
       "      <td>1</td>\n",
       "    </tr>\n",
       "    <tr>\n",
       "      <th>2</th>\n",
       "      <td>a g calls for infrastructure protection summit</td>\n",
       "      <td>2</td>\n",
       "    </tr>\n",
       "    <tr>\n",
       "      <th>3</th>\n",
       "      <td>air nz staff in aust strike for pay rise</td>\n",
       "      <td>3</td>\n",
       "    </tr>\n",
       "    <tr>\n",
       "      <th>4</th>\n",
       "      <td>air nz strike to affect australian travellers</td>\n",
       "      <td>4</td>\n",
       "    </tr>\n",
       "  </tbody>\n",
       "</table>\n",
       "</div>"
      ],
      "text/plain": [
       "                                       headline_text  index\n",
       "0  aba decides against community broadcasting lic...      0\n",
       "1     act fire witnesses must be aware of defamation      1\n",
       "2     a g calls for infrastructure protection summit      2\n",
       "3           air nz staff in aust strike for pay rise      3\n",
       "4      air nz strike to affect australian travellers      4"
      ]
     },
     "execution_count": 3,
     "metadata": {},
     "output_type": "execute_result"
    }
   ],
   "source": [
    "documents[:5]"
   ]
  },
  {
   "cell_type": "markdown",
   "metadata": {},
   "source": [
    "## Step 2: Data Preprocessing ##\n",
    "\n",
    "We will perform the following steps:\n",
    "\n",
    "* **Tokenization**: Split the text into sentences and the sentences into words. Lowercase the words and remove punctuation.\n",
    "* Words that have fewer than 3 characters are removed.\n",
    "* All **stopwords** are removed.\n",
    "* Words are **lemmatized** - words in third person are changed to first person and verbs in past and future tenses are changed into present.\n",
    "* Words are **stemmed** - words are reduced to their root form.\n"
   ]
  },
  {
   "cell_type": "code",
   "execution_count": 4,
   "metadata": {},
   "outputs": [],
   "source": [
    "'''\n",
    "Loading Gensim and nltk libraries\n",
    "'''\n",
    "# pip install gensim\n",
    "import gensim\n",
    "from gensim.utils import simple_preprocess\n",
    "from gensim.parsing.preprocessing import STOPWORDS\n",
    "from nltk.stem import WordNetLemmatizer, SnowballStemmer\n",
    "from nltk.stem.porter import *\n",
    "import numpy as np\n",
    "np.random.seed(400)"
   ]
  },
  {
   "cell_type": "code",
   "execution_count": 5,
   "metadata": {},
   "outputs": [
    {
     "name": "stdout",
     "output_type": "stream",
     "text": [
      "[nltk_data] Downloading package wordnet to /root/nltk_data...\n",
      "[nltk_data]   Unzipping corpora/wordnet.zip.\n"
     ]
    },
    {
     "data": {
      "text/plain": [
       "True"
      ]
     },
     "execution_count": 5,
     "metadata": {},
     "output_type": "execute_result"
    }
   ],
   "source": [
    "import nltk\n",
    "nltk.download('wordnet')"
   ]
  },
  {
   "cell_type": "markdown",
   "metadata": {},
   "source": [
    "### Lemmatizer Example\n",
    "Before preprocessing our dataset, let's first look at an lemmatizing example. What would be the output if we lemmatized the word 'went':"
   ]
  },
  {
   "cell_type": "code",
   "execution_count": 6,
   "metadata": {},
   "outputs": [
    {
     "name": "stdout",
     "output_type": "stream",
     "text": [
      "go\n"
     ]
    }
   ],
   "source": [
    "print(WordNetLemmatizer().lemmatize('went', pos = 'v')) # past tense to present tense"
   ]
  },
  {
   "cell_type": "markdown",
   "metadata": {},
   "source": [
    "### Stemmer Example\n",
    "Let's also look at a stemming example. Let's throw a number of words at the stemmer and see how it deals with each one:"
   ]
  },
  {
   "cell_type": "code",
   "execution_count": 7,
   "metadata": {},
   "outputs": [
    {
     "data": {
      "text/html": [
       "<div>\n",
       "<style scoped>\n",
       "    .dataframe tbody tr th:only-of-type {\n",
       "        vertical-align: middle;\n",
       "    }\n",
       "\n",
       "    .dataframe tbody tr th {\n",
       "        vertical-align: top;\n",
       "    }\n",
       "\n",
       "    .dataframe thead th {\n",
       "        text-align: right;\n",
       "    }\n",
       "</style>\n",
       "<table border=\"1\" class=\"dataframe\">\n",
       "  <thead>\n",
       "    <tr style=\"text-align: right;\">\n",
       "      <th></th>\n",
       "      <th>original word</th>\n",
       "      <th>stemmed</th>\n",
       "    </tr>\n",
       "  </thead>\n",
       "  <tbody>\n",
       "    <tr>\n",
       "      <th>0</th>\n",
       "      <td>caresses</td>\n",
       "      <td>caress</td>\n",
       "    </tr>\n",
       "    <tr>\n",
       "      <th>1</th>\n",
       "      <td>flies</td>\n",
       "      <td>fli</td>\n",
       "    </tr>\n",
       "    <tr>\n",
       "      <th>2</th>\n",
       "      <td>dies</td>\n",
       "      <td>die</td>\n",
       "    </tr>\n",
       "    <tr>\n",
       "      <th>3</th>\n",
       "      <td>mules</td>\n",
       "      <td>mule</td>\n",
       "    </tr>\n",
       "    <tr>\n",
       "      <th>4</th>\n",
       "      <td>denied</td>\n",
       "      <td>deni</td>\n",
       "    </tr>\n",
       "    <tr>\n",
       "      <th>5</th>\n",
       "      <td>died</td>\n",
       "      <td>die</td>\n",
       "    </tr>\n",
       "    <tr>\n",
       "      <th>6</th>\n",
       "      <td>agreed</td>\n",
       "      <td>agre</td>\n",
       "    </tr>\n",
       "    <tr>\n",
       "      <th>7</th>\n",
       "      <td>owned</td>\n",
       "      <td>own</td>\n",
       "    </tr>\n",
       "    <tr>\n",
       "      <th>8</th>\n",
       "      <td>humbled</td>\n",
       "      <td>humbl</td>\n",
       "    </tr>\n",
       "    <tr>\n",
       "      <th>9</th>\n",
       "      <td>sized</td>\n",
       "      <td>size</td>\n",
       "    </tr>\n",
       "    <tr>\n",
       "      <th>10</th>\n",
       "      <td>meeting</td>\n",
       "      <td>meet</td>\n",
       "    </tr>\n",
       "    <tr>\n",
       "      <th>11</th>\n",
       "      <td>stating</td>\n",
       "      <td>state</td>\n",
       "    </tr>\n",
       "    <tr>\n",
       "      <th>12</th>\n",
       "      <td>siezing</td>\n",
       "      <td>siez</td>\n",
       "    </tr>\n",
       "    <tr>\n",
       "      <th>13</th>\n",
       "      <td>itemization</td>\n",
       "      <td>item</td>\n",
       "    </tr>\n",
       "    <tr>\n",
       "      <th>14</th>\n",
       "      <td>sensational</td>\n",
       "      <td>sensat</td>\n",
       "    </tr>\n",
       "    <tr>\n",
       "      <th>15</th>\n",
       "      <td>traditional</td>\n",
       "      <td>tradit</td>\n",
       "    </tr>\n",
       "    <tr>\n",
       "      <th>16</th>\n",
       "      <td>reference</td>\n",
       "      <td>refer</td>\n",
       "    </tr>\n",
       "    <tr>\n",
       "      <th>17</th>\n",
       "      <td>colonizer</td>\n",
       "      <td>colon</td>\n",
       "    </tr>\n",
       "    <tr>\n",
       "      <th>18</th>\n",
       "      <td>plotted</td>\n",
       "      <td>plot</td>\n",
       "    </tr>\n",
       "  </tbody>\n",
       "</table>\n",
       "</div>"
      ],
      "text/plain": [
       "   original word stemmed\n",
       "0       caresses  caress\n",
       "1          flies     fli\n",
       "2           dies     die\n",
       "3          mules    mule\n",
       "4         denied    deni\n",
       "5           died     die\n",
       "6         agreed    agre\n",
       "7          owned     own\n",
       "8        humbled   humbl\n",
       "9          sized    size\n",
       "10       meeting    meet\n",
       "11       stating   state\n",
       "12       siezing    siez\n",
       "13   itemization    item\n",
       "14   sensational  sensat\n",
       "15   traditional  tradit\n",
       "16     reference   refer\n",
       "17     colonizer   colon\n",
       "18       plotted    plot"
      ]
     },
     "execution_count": 7,
     "metadata": {},
     "output_type": "execute_result"
    }
   ],
   "source": [
    "stemmer = SnowballStemmer(\"english\")\n",
    "original_words = ['caresses', 'flies', 'dies', 'mules', 'denied','died', 'agreed', 'owned', \n",
    "           'humbled', 'sized','meeting', 'stating', 'siezing', 'itemization','sensational', \n",
    "           'traditional', 'reference', 'colonizer','plotted']\n",
    "singles = [stemmer.stem(plural) for plural in original_words]\n",
    "\n",
    "pd.DataFrame(data={'original word':original_words, 'stemmed':singles })"
   ]
  },
  {
   "cell_type": "code",
   "execution_count": 8,
   "metadata": {},
   "outputs": [],
   "source": [
    "'''\n",
    "Write a function to perform the pre processing steps on the entire dataset\n",
    "'''\n",
    "def lemmatize_stemming(text):\n",
    "    return stemmer.stem(WordNetLemmatizer().lemmatize(text, pos='v'))\n",
    "\n",
    "# Tokenize and lemmatize\n",
    "def preprocess(text):\n",
    "    result=[]\n",
    "    for token in gensim.utils.simple_preprocess(text) :\n",
    "        if token not in gensim.parsing.preprocessing.STOPWORDS and len(token) > 3:\n",
    "            result.append(lemmatize_stemming(token))\n",
    "    return result\n",
    "\n"
   ]
  },
  {
   "cell_type": "code",
   "execution_count": 9,
   "metadata": {},
   "outputs": [
    {
     "name": "stdout",
     "output_type": "stream",
     "text": [
      "Original document: \n",
      "['rain', 'helps', 'dampen', 'bushfires']\n",
      "\n",
      "\n",
      "Tokenized and lemmatized document: \n",
      "['rain', 'help', 'dampen', 'bushfir']\n"
     ]
    }
   ],
   "source": [
    "'''\n",
    "Preview a document after preprocessing\n",
    "'''\n",
    "document_num = 4310\n",
    "doc_sample = documents[documents['index'] == document_num].values[0][0]\n",
    "\n",
    "print(\"Original document: \")\n",
    "words = []\n",
    "for word in doc_sample.split(' '):\n",
    "    words.append(word)\n",
    "print(words)\n",
    "print(\"\\n\\nTokenized and lemmatized document: \")\n",
    "print(preprocess(doc_sample))"
   ]
  },
  {
   "cell_type": "markdown",
   "metadata": {},
   "source": [
    "Let's now preprocess all the news headlines we have. To do that, let's use the [map](https://pandas.pydata.org/pandas-docs/stable/generated/pandas.Series.map.html) function from pandas to apply `preprocess()` to the `headline_text` column\n",
    "\n",
    "**Note**: This may take a few minutes (it take 6 minutes on my laptop)"
   ]
  },
  {
   "cell_type": "code",
   "execution_count": 10,
   "metadata": {},
   "outputs": [],
   "source": [
    "# TODO: preprocess all the headlines, saving the list of results\n",
    "#as 'processed_docs'\n",
    "processed_docs = documents.headline_text.map(preprocess)"
   ]
  },
  {
   "cell_type": "code",
   "execution_count": 11,
   "metadata": {},
   "outputs": [
    {
     "data": {
      "text/plain": [
       "0            [decid, communiti, broadcast, licenc]\n",
       "1                               [wit, awar, defam]\n",
       "2           [call, infrastructur, protect, summit]\n",
       "3                      [staff, aust, strike, rise]\n",
       "4             [strike, affect, australian, travel]\n",
       "5               [ambiti, olsson, win, tripl, jump]\n",
       "6           [antic, delight, record, break, barca]\n",
       "7    [aussi, qualifi, stosur, wast, memphi, match]\n",
       "8            [aust, address, secur, council, iraq]\n",
       "9                         [australia, lock, timet]\n",
       "Name: headline_text, dtype: object"
      ]
     },
     "execution_count": 11,
     "metadata": {},
     "output_type": "execute_result"
    }
   ],
   "source": [
    "'''\n",
    "Preview 'processed_docs'\n",
    "'''\n",
    "processed_docs[:10]"
   ]
  },
  {
   "cell_type": "markdown",
   "metadata": {},
   "source": [
    "## Step 3.1: Bag of words on the dataset\n",
    "\n",
    "Now let's create a dictionary from 'processed_docs' containing the number of times a word appears in the training set. To do that, let's pass `processed_docs` to [`gensim.corpora.Dictionary()`](https://radimrehurek.com/gensim/corpora/dictionary.html) and call it '`dictionary`'."
   ]
  },
  {
   "cell_type": "code",
   "execution_count": 12,
   "metadata": {},
   "outputs": [],
   "source": [
    "'''\n",
    "Create a dictionary from 'processed_docs' containing the number of times a word appears \n",
    "in the training set using gensim.corpora.Dictionary and call it 'dictionary'\n",
    "'''\n",
    "dictionary = gensim.corpora.Dictionary(processed_docs)"
   ]
  },
  {
   "cell_type": "code",
   "execution_count": 13,
   "metadata": {},
   "outputs": [
    {
     "data": {
      "text/plain": [
       "'communiti'"
      ]
     },
     "execution_count": 13,
     "metadata": {},
     "output_type": "execute_result"
    }
   ],
   "source": [
    "dictionary[1]"
   ]
  },
  {
   "cell_type": "code",
   "execution_count": 14,
   "metadata": {},
   "outputs": [
    {
     "name": "stdout",
     "output_type": "stream",
     "text": [
      "0 broadcast\n",
      "1 communiti\n",
      "2 decid\n",
      "3 licenc\n",
      "4 awar\n",
      "5 defam\n",
      "6 wit\n",
      "7 call\n",
      "8 infrastructur\n",
      "9 protect\n",
      "10 summit\n"
     ]
    }
   ],
   "source": [
    "'''\n",
    "Checking dictionary created\n",
    "'''\n",
    "count = 0\n",
    "for k, v in dictionary.iteritems():\n",
    "    print(k, v)\n",
    "    count += 1\n",
    "    if count > 10:\n",
    "        break"
   ]
  },
  {
   "cell_type": "markdown",
   "metadata": {},
   "source": [
    "** Gensim filter_extremes **\n",
    "\n",
    "[`filter_extremes(no_below=5, no_above=0.5, keep_n=100000)`](https://radimrehurek.com/gensim/corpora/dictionary.html#gensim.corpora.dictionary.Dictionary.filter_extremes)\n",
    "\n",
    "Filter out tokens that appear in\n",
    "\n",
    "* less than no_below documents (absolute number) or\n",
    "* more than no_above documents (fraction of total corpus size, not absolute number).\n",
    "* after (1) and (2), keep only the first keep_n most frequent tokens (or keep all if None)."
   ]
  },
  {
   "cell_type": "code",
   "execution_count": 15,
   "metadata": {},
   "outputs": [],
   "source": [
    "'''\n",
    "OPTIONAL STEP\n",
    "Remove very rare and very common words:\n",
    "\n",
    "- words appearing less than 15 times\n",
    "- words appearing in more than 10% of all documents\n",
    "'''\n",
    "# TODO: apply dictionary.filter_extremes() with the parameters \n",
    "# mentioned above\n",
    "dictionary.filter_extremes(no_below=5, no_above=0.5, keep_n=100000)"
   ]
  },
  {
   "cell_type": "markdown",
   "metadata": {},
   "source": [
    "** Gensim doc2bow **\n",
    "\n",
    "[`doc2bow(document)`](https://radimrehurek.com/gensim/corpora/dictionary.html#gensim.corpora.dictionary.Dictionary.doc2bow)\n",
    "\n",
    "* Convert document (a list of words) into the bag-of-words format = list of (token_id, token_count) 2-tuples. Each word is assumed to be a tokenized and normalized string (either unicode or utf8-encoded). No further preprocessing is done on the words in document; apply tokenization, stemming etc. before calling this method."
   ]
  },
  {
   "cell_type": "code",
   "execution_count": 16,
   "metadata": {},
   "outputs": [],
   "source": [
    "'''\n",
    "Create the Bag-of-words model for each document i.e for each document \n",
    "we create a dictionary reporting how many\n",
    "words and how many times those words appear. Save this to 'bow_corpus'\n",
    "'''\n",
    "# TODO\n",
    "bow_corpus = processed_docs.map(dictionary.doc2bow)"
   ]
  },
  {
   "cell_type": "code",
   "execution_count": 17,
   "metadata": {},
   "outputs": [
    {
     "data": {
      "text/plain": [
       "0                          [(0, 1), (1, 1), (2, 1), (3, 1)]\n",
       "1                                  [(4, 1), (5, 1), (6, 1)]\n",
       "2                         [(7, 1), (8, 1), (9, 1), (10, 1)]\n",
       "3                      [(11, 1), (12, 1), (13, 1), (14, 1)]\n",
       "4                      [(14, 1), (15, 1), (16, 1), (17, 1)]\n",
       "5                      [(18, 1), (19, 1), (20, 1), (21, 1)]\n",
       "6             [(22, 1), (23, 1), (24, 1), (25, 1), (26, 1)]\n",
       "7         [(27, 1), (28, 1), (29, 1), (30, 1), (31, 1), ...\n",
       "8             [(11, 1), (33, 1), (34, 1), (35, 1), (36, 1)]\n",
       "9                               [(37, 1), (38, 1), (39, 1)]\n",
       "10                     [(35, 1), (37, 1), (40, 1), (41, 1)]\n",
       "11            [(23, 1), (26, 1), (42, 1), (43, 1), (44, 1)]\n",
       "12                              [(45, 1), (46, 1), (47, 1)]\n",
       "13                     [(48, 1), (49, 1), (50, 1), (51, 1)]\n",
       "14            [(47, 1), (52, 1), (53, 1), (54, 1), (55, 1)]\n",
       "15            [(56, 1), (57, 1), (58, 1), (59, 1), (60, 1)]\n",
       "16            [(61, 1), (62, 1), (63, 1), (64, 1), (65, 1)]\n",
       "17        [(65, 1), (66, 1), (67, 1), (68, 1), (69, 1), ...\n",
       "18            [(71, 1), (72, 1), (73, 1), (74, 1), (75, 1)]\n",
       "19                     [(76, 1), (77, 1), (78, 1), (79, 1)]\n",
       "20                     [(80, 1), (81, 1), (82, 1), (83, 1)]\n",
       "21            [(84, 1), (85, 1), (86, 1), (87, 1), (88, 1)]\n",
       "22                     [(45, 1), (89, 1), (90, 1), (91, 1)]\n",
       "23            [(92, 1), (93, 1), (94, 1), (95, 1), (96, 1)]\n",
       "24                              [(97, 1), (98, 1), (99, 1)]\n",
       "25        [(100, 1), (101, 1), (102, 1), (103, 1), (104,...\n",
       "26        [(106, 1), (107, 1), (108, 1), (109, 1), (110,...\n",
       "27          [(1, 1), (78, 1), (113, 1), (114, 1), (115, 1)]\n",
       "28        [(34, 1), (36, 1), (116, 1), (117, 1), (118, 1...\n",
       "29                 [(120, 1), (121, 1), (122, 1), (123, 1)]\n",
       "                                ...                        \n",
       "299970    [(164, 1), (182, 1), (3409, 1), (5927, 1), (74...\n",
       "299971    [(27, 1), (171, 1), (3735, 1), (8420, 1), (109...\n",
       "299972    [(11, 1), (590, 1), (645, 1), (1938, 1), (8596...\n",
       "299973               [(11, 1), (35, 1), (162, 1), (195, 1)]\n",
       "299974    [(11, 1), (98, 1), (517, 1), (1504, 1), (3260,...\n",
       "299975    [(11, 1), (182, 1), (338, 1), (2793, 1), (4684...\n",
       "299976           [(402, 1), (731, 1), (1207, 1), (6190, 1)]\n",
       "299977          [(876, 1), (880, 1), (1626, 1), (10084, 1)]\n",
       "299978          [(36, 1), (1173, 1), (2354, 1), (10785, 1)]\n",
       "299979            [(98, 1), (816, 1), (1154, 1), (2821, 1)]\n",
       "299980    [(106, 1), (331, 1), (367, 1), (2089, 1), (236...\n",
       "299981    [(47, 1), (106, 1), (367, 1), (2362, 1), (3497...\n",
       "299982             [(26, 1), (203, 1), (263, 1), (7655, 1)]\n",
       "299983    [(138, 1), (1444, 1), (2258, 1), (3467, 1), (3...\n",
       "299984                               [(1682, 1), (4987, 1)]\n",
       "299985                                 [(573, 1), (824, 1)]\n",
       "299986    [(94, 1), (347, 1), (424, 1), (939, 1), (1321,...\n",
       "299987        [(1183, 1), (2155, 1), (3403, 1), (10207, 1)]\n",
       "299988           [(43, 1), (642, 1), (3568, 1), (10433, 1)]\n",
       "299989    [(55, 1), (402, 1), (1049, 1), (1336, 1), (219...\n",
       "299990             [(55, 1), (74, 1), (3652, 1), (4535, 1)]\n",
       "299991    [(215, 1), (1174, 1), (1243, 1), (3831, 1), (3...\n",
       "299992    [(258, 1), (374, 1), (1004, 1), (1165, 1), (10...\n",
       "299993    [(174, 1), (367, 1), (1165, 1), (3866, 1), (43...\n",
       "299994    [(24, 1), (55, 1), (346, 1), (673, 1), (1656, 1)]\n",
       "299995    [(546, 1), (2103, 1), (2252, 1), (2463, 1), (1...\n",
       "299996          [(118, 1), (572, 1), (2252, 1), (11315, 1)]\n",
       "299997    [(161, 1), (402, 1), (1198, 1), (2176, 1), (22...\n",
       "299998    [(645, 1), (926, 1), (959, 1), (1303, 1), (269...\n",
       "299999                     [(645, 1), (1368, 1), (1492, 1)]\n",
       "Name: headline_text, Length: 300000, dtype: object"
      ]
     },
     "execution_count": 17,
     "metadata": {},
     "output_type": "execute_result"
    }
   ],
   "source": [
    "bow_corpus"
   ]
  },
  {
   "cell_type": "code",
   "execution_count": 18,
   "metadata": {},
   "outputs": [
    {
     "data": {
      "text/plain": [
       "[(76, 1), (113, 1), (482, 1), (4016, 1)]"
      ]
     },
     "execution_count": 18,
     "metadata": {},
     "output_type": "execute_result"
    }
   ],
   "source": [
    "'''\n",
    "Checking Bag of Words corpus for our sample \n",
    "document --> (token_id, token_count)\n",
    "'''\n",
    "bow_corpus[document_num]"
   ]
  },
  {
   "cell_type": "code",
   "execution_count": 32,
   "metadata": {},
   "outputs": [
    {
     "data": {
      "text/plain": [
       "'australia'"
      ]
     },
     "execution_count": 32,
     "metadata": {},
     "output_type": "execute_result"
    }
   ],
   "source": [
    "dictionary[37]"
   ]
  },
  {
   "cell_type": "code",
   "execution_count": 19,
   "metadata": {},
   "outputs": [
    {
     "name": "stdout",
     "output_type": "stream",
     "text": [
      "Word 76 (\"bushfir\") appears 1 time.\n",
      "Word 113 (\"help\") appears 1 time.\n",
      "Word 482 (\"rain\") appears 1 time.\n",
      "Word 4016 (\"dampen\") appears 1 time.\n"
     ]
    }
   ],
   "source": [
    "'''\n",
    "Preview BOW for our sample preprocessed document\n",
    "'''\n",
    "# Here document_num is document number 4310 which we have checked in Step 2\n",
    "bow_doc_4310 = bow_corpus[document_num]\n",
    "\n",
    "for i in range(len(bow_doc_4310)):\n",
    "    print(\"Word {} (\\\"{}\\\") appears {} time.\".format(bow_doc_4310[i][0], \n",
    "                                                     dictionary[bow_doc_4310[i][0]], \n",
    "                                                     bow_doc_4310[i][1]))"
   ]
  },
  {
   "cell_type": "markdown",
   "metadata": {},
   "source": [
    "## Step 3.2: TF-IDF on our document set ##\n",
    "\n",
    "While performing TF-IDF on the corpus is not necessary for LDA implemention using the gensim model, it is recemmended. TF-IDF expects a bag-of-words (integer values) training corpus during initialization. During transformation, it will take a vector and return another vector of the same dimensionality.\n",
    "\n",
    "*Please note: The author of Gensim dictates the standard procedure for LDA to be using the Bag of Words model.*"
   ]
  },
  {
   "cell_type": "markdown",
   "metadata": {},
   "source": [
    "** TF-IDF stands for \"Term Frequency, Inverse Document Frequency\".**\n",
    "\n",
    "* It is a way to score the importance of words (or \"terms\") in a document based on how frequently they appear across multiple documents.\n",
    "* If a word appears frequently in a document, it's important. Give the word a high score. But if a word appears in many documents, it's not a unique identifier. Give the word a low score.\n",
    "* Therefore, common words like \"the\" and \"for\", which appear in many documents, will be scaled down. Words that appear frequently in a single document will be scaled up.\n",
    "\n",
    "In other words:\n",
    "\n",
    "* TF(w) = `(Number of times term w appears in a document) / (Total number of terms in the document)`.\n",
    "* IDF(w) = `log_e(Total number of documents / Number of documents with term w in it)`.\n",
    "\n",
    "** For example **\n",
    "\n",
    "* Consider a document containing `100` words wherein the word 'tiger' appears 3 times. \n",
    "* The term frequency (i.e., tf) for 'tiger' is then: \n",
    "    - `TF = (3 / 100) = 0.03`. \n",
    "\n",
    "* Now, assume we have `10 million` documents and the word 'tiger' appears in `1000` of these. Then, the inverse document frequency (i.e., idf) is calculated as:\n",
    "    - `IDF = log(10,000,000 / 1,000) = 4`. \n",
    "\n",
    "* Thus, the Tf-idf weight is the product of these quantities: \n",
    "    - `TF-IDF = 0.03 * 4 = 0.12`."
   ]
  },
  {
   "cell_type": "code",
   "execution_count": 20,
   "metadata": {},
   "outputs": [
    {
     "data": {
      "text/plain": [
       "0                          [(0, 1), (1, 1), (2, 1), (3, 1)]\n",
       "1                                  [(4, 1), (5, 1), (6, 1)]\n",
       "2                         [(7, 1), (8, 1), (9, 1), (10, 1)]\n",
       "3                      [(11, 1), (12, 1), (13, 1), (14, 1)]\n",
       "4                      [(14, 1), (15, 1), (16, 1), (17, 1)]\n",
       "5                      [(18, 1), (19, 1), (20, 1), (21, 1)]\n",
       "6             [(22, 1), (23, 1), (24, 1), (25, 1), (26, 1)]\n",
       "7         [(27, 1), (28, 1), (29, 1), (30, 1), (31, 1), ...\n",
       "8             [(11, 1), (33, 1), (34, 1), (35, 1), (36, 1)]\n",
       "9                               [(37, 1), (38, 1), (39, 1)]\n",
       "10                     [(35, 1), (37, 1), (40, 1), (41, 1)]\n",
       "11            [(23, 1), (26, 1), (42, 1), (43, 1), (44, 1)]\n",
       "12                              [(45, 1), (46, 1), (47, 1)]\n",
       "13                     [(48, 1), (49, 1), (50, 1), (51, 1)]\n",
       "14            [(47, 1), (52, 1), (53, 1), (54, 1), (55, 1)]\n",
       "15            [(56, 1), (57, 1), (58, 1), (59, 1), (60, 1)]\n",
       "16            [(61, 1), (62, 1), (63, 1), (64, 1), (65, 1)]\n",
       "17        [(65, 1), (66, 1), (67, 1), (68, 1), (69, 1), ...\n",
       "18            [(71, 1), (72, 1), (73, 1), (74, 1), (75, 1)]\n",
       "19                     [(76, 1), (77, 1), (78, 1), (79, 1)]\n",
       "20                     [(80, 1), (81, 1), (82, 1), (83, 1)]\n",
       "21            [(84, 1), (85, 1), (86, 1), (87, 1), (88, 1)]\n",
       "22                     [(45, 1), (89, 1), (90, 1), (91, 1)]\n",
       "23            [(92, 1), (93, 1), (94, 1), (95, 1), (96, 1)]\n",
       "24                              [(97, 1), (98, 1), (99, 1)]\n",
       "25        [(100, 1), (101, 1), (102, 1), (103, 1), (104,...\n",
       "26        [(106, 1), (107, 1), (108, 1), (109, 1), (110,...\n",
       "27          [(1, 1), (78, 1), (113, 1), (114, 1), (115, 1)]\n",
       "28        [(34, 1), (36, 1), (116, 1), (117, 1), (118, 1...\n",
       "29                 [(120, 1), (121, 1), (122, 1), (123, 1)]\n",
       "                                ...                        \n",
       "299970    [(164, 1), (182, 1), (3409, 1), (5927, 1), (74...\n",
       "299971    [(27, 1), (171, 1), (3735, 1), (8420, 1), (109...\n",
       "299972    [(11, 1), (590, 1), (645, 1), (1938, 1), (8596...\n",
       "299973               [(11, 1), (35, 1), (162, 1), (195, 1)]\n",
       "299974    [(11, 1), (98, 1), (517, 1), (1504, 1), (3260,...\n",
       "299975    [(11, 1), (182, 1), (338, 1), (2793, 1), (4684...\n",
       "299976           [(402, 1), (731, 1), (1207, 1), (6190, 1)]\n",
       "299977          [(876, 1), (880, 1), (1626, 1), (10084, 1)]\n",
       "299978          [(36, 1), (1173, 1), (2354, 1), (10785, 1)]\n",
       "299979            [(98, 1), (816, 1), (1154, 1), (2821, 1)]\n",
       "299980    [(106, 1), (331, 1), (367, 1), (2089, 1), (236...\n",
       "299981    [(47, 1), (106, 1), (367, 1), (2362, 1), (3497...\n",
       "299982             [(26, 1), (203, 1), (263, 1), (7655, 1)]\n",
       "299983    [(138, 1), (1444, 1), (2258, 1), (3467, 1), (3...\n",
       "299984                               [(1682, 1), (4987, 1)]\n",
       "299985                                 [(573, 1), (824, 1)]\n",
       "299986    [(94, 1), (347, 1), (424, 1), (939, 1), (1321,...\n",
       "299987        [(1183, 1), (2155, 1), (3403, 1), (10207, 1)]\n",
       "299988           [(43, 1), (642, 1), (3568, 1), (10433, 1)]\n",
       "299989    [(55, 1), (402, 1), (1049, 1), (1336, 1), (219...\n",
       "299990             [(55, 1), (74, 1), (3652, 1), (4535, 1)]\n",
       "299991    [(215, 1), (1174, 1), (1243, 1), (3831, 1), (3...\n",
       "299992    [(258, 1), (374, 1), (1004, 1), (1165, 1), (10...\n",
       "299993    [(174, 1), (367, 1), (1165, 1), (3866, 1), (43...\n",
       "299994    [(24, 1), (55, 1), (346, 1), (673, 1), (1656, 1)]\n",
       "299995    [(546, 1), (2103, 1), (2252, 1), (2463, 1), (1...\n",
       "299996          [(118, 1), (572, 1), (2252, 1), (11315, 1)]\n",
       "299997    [(161, 1), (402, 1), (1198, 1), (2176, 1), (22...\n",
       "299998    [(645, 1), (926, 1), (959, 1), (1303, 1), (269...\n",
       "299999                     [(645, 1), (1368, 1), (1492, 1)]\n",
       "Name: headline_text, Length: 300000, dtype: object"
      ]
     },
     "execution_count": 20,
     "metadata": {},
     "output_type": "execute_result"
    }
   ],
   "source": [
    "bow_corpus"
   ]
  },
  {
   "cell_type": "code",
   "execution_count": 21,
   "metadata": {},
   "outputs": [],
   "source": [
    "'''\n",
    "Create tf-idf model object using models.TfidfModel on \n",
    "'bow_corpus' and save it to 'tfidf'\n",
    "'''\n",
    "from gensim import corpora, models\n",
    "\n",
    "# TODO\n",
    "tfidf = models.TfidfModel(bow_corpus)"
   ]
  },
  {
   "cell_type": "code",
   "execution_count": 22,
   "metadata": {},
   "outputs": [],
   "source": [
    "'''\n",
    "Apply transformation to the entire corpus and call it 'corpus_tfidf'\n",
    "'''\n",
    "# TODO\n",
    "corpus_tfidf = [tfidf[s] for s in bow_corpus]"
   ]
  },
  {
   "cell_type": "code",
   "execution_count": 23,
   "metadata": {},
   "outputs": [
    {
     "name": "stdout",
     "output_type": "stream",
     "text": [
      "[(0, 0.5959813347777092),\n",
      " (1, 0.39204529549491984),\n",
      " (2, 0.48531419274988147),\n",
      " (3, 0.50554610985785686)]\n"
     ]
    }
   ],
   "source": [
    "'''\n",
    "Preview TF-IDF scores for our first document --> --> (token_id, tfidf score)\n",
    "'''\n",
    "from pprint import pprint\n",
    "for doc in corpus_tfidf:\n",
    "    pprint(doc)\n",
    "    break"
   ]
  },
  {
   "cell_type": "markdown",
   "metadata": {},
   "source": [
    "## Step 4.1: Running LDA using Bag of Words ##\n",
    "\n",
    "We are going for 10 topics in the document corpus.\n",
    "\n",
    "** We will be running LDA using all CPU cores to parallelize and speed up model training.**\n",
    "\n",
    "Some of the parameters we will be tweaking are:\n",
    "\n",
    "* **num_topics** is the number of requested latent topics to be extracted from the training corpus.\n",
    "* **id2word** is a mapping from word ids (integers) to words (strings). It is used to determine the vocabulary size, as well as for debugging and topic printing.\n",
    "* **workers** is the number of extra processes to use for parallelization. Uses all available cores by default.\n",
    "* **alpha** and **eta** are hyperparameters that affect sparsity of the document-topic (theta) and topic-word (lambda) distributions. We will let these be the default values for now(default value is `1/num_topics`)\n",
    "    - Alpha is the per document topic distribution.\n",
    "        * High alpha: Every document has a mixture of all topics(documents appear similar to each other).\n",
    "        * Low alpha: Every document has a mixture of very few topics\n",
    "\n",
    "    - Eta is the per topic word distribution.\n",
    "        * High eta: Each topic has a mixture of most words(topics appear similar to each other).\n",
    "        * Low eta: Each topic has a mixture of few words.\n",
    "\n",
    "* ** passes ** is the number of training passes through the corpus. For  example, if the training corpus has 50,000 documents, chunksize is  10,000, passes is 2, then online training is done in 10 updates: \n",
    "    * `#1 documents 0-9,999 `\n",
    "    * `#2 documents 10,000-19,999 `\n",
    "    * `#3 documents 20,000-29,999 `\n",
    "    * `#4 documents 30,000-39,999 `\n",
    "    * `#5 documents 40,000-49,999 `\n",
    "    * `#6 documents 0-9,999 `\n",
    "    * `#7 documents 10,000-19,999 `\n",
    "    * `#8 documents 20,000-29,999 `\n",
    "    * `#9 documents 30,000-39,999 `\n",
    "    * `#10 documents 40,000-49,999` "
   ]
  },
  {
   "cell_type": "code",
   "execution_count": 24,
   "metadata": {},
   "outputs": [],
   "source": [
    "# LDA mono-core -- fallback code in case LdaMulticore throws an error on your machine\n",
    "# lda_model = gensim.models.LdaModel(bow_corpus, \n",
    "#                                    num_topics = 10, \n",
    "#                                    id2word = dictionary,                                    \n",
    "#                                    passes = 50)\n",
    "\n",
    "# LDA multicore \n",
    "'''\n",
    "Train your lda model using gensim.models.LdaMulticore and \n",
    "save it to 'lda_model'\n",
    "'''\n",
    "# TODO\n",
    "lda_model = gensim.models.LdaModel(bow_corpus, num_topics=10, \n",
    "                                   id2word=dictionary, \n",
    "                                   passes=2)"
   ]
  },
  {
   "cell_type": "code",
   "execution_count": 25,
   "metadata": {},
   "outputs": [
    {
     "data": {
      "text/plain": [
       "[(0,\n",
       "  '0.042*\"govt\" + 0.034*\"urg\" + 0.021*\"hous\" + 0.021*\"closer\" + 0.017*\"minist\" + 0.017*\"defend\" + 0.014*\"blaze\" + 0.013*\"hold\" + 0.013*\"hick\" + 0.011*\"leav\"'),\n",
       " (1,\n",
       "  '0.021*\"nation\" + 0.020*\"hospit\" + 0.019*\"school\" + 0.018*\"worker\" + 0.017*\"open\" + 0.015*\"union\" + 0.014*\"mayor\" + 0.013*\"say\" + 0.013*\"rudd\" + 0.012*\"need\"'),\n",
       " (2,\n",
       "  '0.030*\"kill\" + 0.028*\"claim\" + 0.025*\"continu\" + 0.023*\"labor\" + 0.022*\"reject\" + 0.022*\"opposit\" + 0.018*\"iraq\" + 0.015*\"deni\" + 0.014*\"get\" + 0.014*\"govt\"'),\n",
       " (3,\n",
       "  '0.021*\"warn\" + 0.018*\"test\" + 0.017*\"green\" + 0.016*\"howard\" + 0.014*\"coast\" + 0.014*\"troop\" + 0.014*\"nuclear\" + 0.013*\"work\" + 0.013*\"south\" + 0.012*\"play\"'),\n",
       " (4,\n",
       "  '0.052*\"water\" + 0.035*\"plan\" + 0.021*\"council\" + 0.017*\"drought\" + 0.017*\"power\" + 0.017*\"road\" + 0.015*\"back\" + 0.015*\"year\" + 0.015*\"farmer\" + 0.014*\"push\"'),\n",
       " (5,\n",
       "  '0.024*\"sydney\" + 0.022*\"forc\" + 0.017*\"price\" + 0.012*\"offic\" + 0.011*\"sale\" + 0.010*\"want\" + 0.010*\"research\" + 0.010*\"climat\" + 0.010*\"bush\" + 0.009*\"scheme\"'),\n",
       " (6,\n",
       "  '0.026*\"aust\" + 0.021*\"lead\" + 0.017*\"chang\" + 0.016*\"case\" + 0.016*\"break\" + 0.015*\"take\" + 0.014*\"england\" + 0.014*\"australia\" + 0.012*\"win\" + 0.012*\"releas\"'),\n",
       " (7,\n",
       "  '0.091*\"polic\" + 0.025*\"investig\" + 0.024*\"miss\" + 0.016*\"search\" + 0.014*\"probe\" + 0.014*\"death\" + 0.012*\"victim\" + 0.012*\"crash\" + 0.012*\"train\" + 0.012*\"lose\"'),\n",
       " (8,\n",
       "  '0.030*\"fund\" + 0.024*\"group\" + 0.022*\"govt\" + 0.018*\"health\" + 0.016*\"seek\" + 0.016*\"consid\" + 0.016*\"help\" + 0.015*\"record\" + 0.014*\"support\" + 0.014*\"indigen\"'),\n",
       " (9,\n",
       "  '0.037*\"charg\" + 0.032*\"court\" + 0.030*\"face\" + 0.023*\"crash\" + 0.022*\"attack\" + 0.022*\"jail\" + 0.019*\"home\" + 0.016*\"accus\" + 0.016*\"concern\" + 0.015*\"die\"')]"
      ]
     },
     "execution_count": 25,
     "metadata": {},
     "output_type": "execute_result"
    }
   ],
   "source": [
    "lda_model.print_topics(-1)"
   ]
  },
  {
   "cell_type": "code",
   "execution_count": 26,
   "metadata": {},
   "outputs": [
    {
     "name": "stdout",
     "output_type": "stream",
     "text": [
      "Topic: 0.042*\"govt\" + 0.034*\"urg\" + 0.021*\"hous\" + 0.021*\"closer\" + 0.017*\"minist\" + 0.017*\"defend\" + 0.014*\"blaze\" + 0.013*\"hold\" + 0.013*\"hick\" + 0.011*\"leav\" \n",
      "Words: 0\n",
      "\n",
      "\n",
      "Topic: 0.021*\"nation\" + 0.020*\"hospit\" + 0.019*\"school\" + 0.018*\"worker\" + 0.017*\"open\" + 0.015*\"union\" + 0.014*\"mayor\" + 0.013*\"say\" + 0.013*\"rudd\" + 0.012*\"need\" \n",
      "Words: 1\n",
      "\n",
      "\n",
      "Topic: 0.030*\"kill\" + 0.028*\"claim\" + 0.025*\"continu\" + 0.023*\"labor\" + 0.022*\"reject\" + 0.022*\"opposit\" + 0.018*\"iraq\" + 0.015*\"deni\" + 0.014*\"get\" + 0.014*\"govt\" \n",
      "Words: 2\n",
      "\n",
      "\n",
      "Topic: 0.021*\"warn\" + 0.018*\"test\" + 0.017*\"green\" + 0.016*\"howard\" + 0.014*\"coast\" + 0.014*\"troop\" + 0.014*\"nuclear\" + 0.013*\"work\" + 0.013*\"south\" + 0.012*\"play\" \n",
      "Words: 3\n",
      "\n",
      "\n",
      "Topic: 0.052*\"water\" + 0.035*\"plan\" + 0.021*\"council\" + 0.017*\"drought\" + 0.017*\"power\" + 0.017*\"road\" + 0.015*\"back\" + 0.015*\"year\" + 0.015*\"farmer\" + 0.014*\"push\" \n",
      "Words: 4\n",
      "\n",
      "\n",
      "Topic: 0.024*\"sydney\" + 0.022*\"forc\" + 0.017*\"price\" + 0.012*\"offic\" + 0.011*\"sale\" + 0.010*\"want\" + 0.010*\"research\" + 0.010*\"climat\" + 0.010*\"bush\" + 0.009*\"scheme\" \n",
      "Words: 5\n",
      "\n",
      "\n",
      "Topic: 0.026*\"aust\" + 0.021*\"lead\" + 0.017*\"chang\" + 0.016*\"case\" + 0.016*\"break\" + 0.015*\"take\" + 0.014*\"england\" + 0.014*\"australia\" + 0.012*\"win\" + 0.012*\"releas\" \n",
      "Words: 6\n",
      "\n",
      "\n",
      "Topic: 0.091*\"polic\" + 0.025*\"investig\" + 0.024*\"miss\" + 0.016*\"search\" + 0.014*\"probe\" + 0.014*\"death\" + 0.012*\"victim\" + 0.012*\"crash\" + 0.012*\"train\" + 0.012*\"lose\" \n",
      "Words: 7\n",
      "\n",
      "\n",
      "Topic: 0.030*\"fund\" + 0.024*\"group\" + 0.022*\"govt\" + 0.018*\"health\" + 0.016*\"seek\" + 0.016*\"consid\" + 0.016*\"help\" + 0.015*\"record\" + 0.014*\"support\" + 0.014*\"indigen\" \n",
      "Words: 8\n",
      "\n",
      "\n",
      "Topic: 0.037*\"charg\" + 0.032*\"court\" + 0.030*\"face\" + 0.023*\"crash\" + 0.022*\"attack\" + 0.022*\"jail\" + 0.019*\"home\" + 0.016*\"accus\" + 0.016*\"concern\" + 0.015*\"die\" \n",
      "Words: 9\n",
      "\n",
      "\n"
     ]
    }
   ],
   "source": [
    "'''\n",
    "For each topic, we will explore the words occuring in that topic and its relative weight\n",
    "'''\n",
    "for idx, topic in lda_model.print_topics(-1):\n",
    "    print(\"Topic: {} \\nWords: {}\".format(topic, idx ))\n",
    "    print(\"\\n\")"
   ]
  },
  {
   "cell_type": "markdown",
   "metadata": {},
   "source": [
    "### Classification of the topics ###\n",
    "\n",
    "Using the words in each topic and their corresponding weights, what categories were you able to infer?\n",
    "\n",
    "* 0: \n",
    "* 1: \n",
    "* 2: \n",
    "* 3: \n",
    "* 4: \n",
    "* 5: \n",
    "* 6: \n",
    "* 7:  \n",
    "* 8: \n",
    "* 9: "
   ]
  },
  {
   "cell_type": "markdown",
   "metadata": {},
   "source": [
    "## Step 4.2 Running LDA using TF-IDF ##"
   ]
  },
  {
   "cell_type": "code",
   "execution_count": 27,
   "metadata": {},
   "outputs": [],
   "source": [
    "'''\n",
    "Define lda model using corpus_tfidf, again using gensim.models.LdaMulticore()\n",
    "'''\n",
    "# TODO\n",
    "lda_model_tfidf = gensim.models.LdaModel(corpus_tfidf, num_topics=10, \n",
    "                                   id2word=dictionary, \n",
    "                                   passes=2)"
   ]
  },
  {
   "cell_type": "code",
   "execution_count": 28,
   "metadata": {},
   "outputs": [
    {
     "name": "stdout",
     "output_type": "stream",
     "text": [
      "Topic: 0 Word: 0.012*\"govt\" + 0.011*\"blaze\" + 0.009*\"fund\" + 0.009*\"urg\" + 0.009*\"firefight\" + 0.008*\"park\" + 0.008*\"nation\" + 0.008*\"bushfir\" + 0.008*\"council\" + 0.008*\"coast\"\n",
      "\n",
      "\n",
      "Topic: 1 Word: 0.014*\"search\" + 0.013*\"miss\" + 0.011*\"water\" + 0.011*\"timor\" + 0.010*\"polic\" + 0.009*\"murray\" + 0.008*\"river\" + 0.008*\"damag\" + 0.008*\"rescu\" + 0.007*\"question\"\n",
      "\n",
      "\n",
      "Topic: 2 Word: 0.041*\"closer\" + 0.012*\"elect\" + 0.010*\"region\" + 0.010*\"mayor\" + 0.009*\"blue\" + 0.009*\"author\" + 0.008*\"critic\" + 0.008*\"victori\" + 0.008*\"poll\" + 0.008*\"accid\"\n",
      "\n",
      "\n",
      "Topic: 3 Word: 0.012*\"opposit\" + 0.011*\"test\" + 0.010*\"guilti\" + 0.010*\"law\" + 0.010*\"iran\" + 0.008*\"stand\" + 0.008*\"dead\" + 0.008*\"blast\" + 0.007*\"plead\" + 0.007*\"baghdad\"\n",
      "\n",
      "\n",
      "Topic: 4 Word: 0.012*\"kill\" + 0.012*\"howard\" + 0.011*\"polic\" + 0.010*\"fatal\" + 0.010*\"bodi\" + 0.010*\"deal\" + 0.010*\"crash\" + 0.009*\"attack\" + 0.009*\"price\" + 0.008*\"sale\"\n",
      "\n",
      "\n",
      "Topic: 5 Word: 0.014*\"die\" + 0.014*\"charg\" + 0.013*\"murder\" + 0.013*\"crash\" + 0.012*\"assault\" + 0.011*\"polic\" + 0.011*\"melbourn\" + 0.010*\"sydney\" + 0.010*\"court\" + 0.010*\"woman\"\n",
      "\n",
      "\n",
      "Topic: 6 Word: 0.014*\"teen\" + 0.012*\"break\" + 0.011*\"power\" + 0.010*\"prompt\" + 0.010*\"child\" + 0.009*\"build\" + 0.009*\"find\" + 0.007*\"cancer\" + 0.007*\"resign\" + 0.007*\"scientist\"\n",
      "\n",
      "\n",
      "Topic: 7 Word: 0.009*\"resid\" + 0.008*\"south\" + 0.008*\"govt\" + 0.008*\"farm\" + 0.008*\"market\" + 0.008*\"liber\" + 0.007*\"announc\" + 0.007*\"green\" + 0.007*\"drink\" + 0.007*\"qanta\"\n",
      "\n",
      "\n",
      "Topic: 8 Word: 0.016*\"rudd\" + 0.011*\"offic\" + 0.011*\"victim\" + 0.010*\"shoot\" + 0.009*\"releas\" + 0.009*\"condit\" + 0.009*\"iemma\" + 0.008*\"violenc\" + 0.007*\"challeng\" + 0.007*\"clean\"\n",
      "\n",
      "\n",
      "Topic: 9 Word: 0.015*\"hick\" + 0.012*\"nuclear\" + 0.010*\"climat\" + 0.009*\"futur\" + 0.008*\"sentenc\" + 0.008*\"burn\" + 0.007*\"link\" + 0.007*\"korea\" + 0.006*\"fiji\" + 0.006*\"sailor\"\n",
      "\n",
      "\n"
     ]
    }
   ],
   "source": [
    "'''\n",
    "For each topic, we will explore the words occuring in that topic and its relative weight\n",
    "'''\n",
    "for idx, topic in lda_model_tfidf.print_topics(-1):\n",
    "    print(\"Topic: {} Word: {}\".format(idx, topic))\n",
    "    print(\"\\n\")"
   ]
  },
  {
   "cell_type": "markdown",
   "metadata": {},
   "source": [
    "### Classification of the topics ###\n",
    "\n",
    "As we can see, when using tf-idf, heavier weights are given to words that are not as frequent which results in nouns being factored in. That makes it harder to figure out the categories as nouns can be hard to categorize. This goes to show that the models we apply depend on the type of corpus of text we are dealing with. \n",
    "\n",
    "Using the words in each topic and their corresponding weights, what categories could you find?\n",
    "\n",
    "* 0: \n",
    "* 1:  \n",
    "* 2: \n",
    "* 3: \n",
    "* 4:  \n",
    "* 5: \n",
    "* 6: \n",
    "* 7: \n",
    "* 8: \n",
    "* 9: "
   ]
  },
  {
   "cell_type": "markdown",
   "metadata": {},
   "source": [
    "## Step 5.1: Performance evaluation by classifying sample document using LDA Bag of Words model##\n",
    "\n",
    "We will check to see where our test document would be classified. "
   ]
  },
  {
   "cell_type": "code",
   "execution_count": 29,
   "metadata": {},
   "outputs": [
    {
     "data": {
      "text/plain": [
       "['rain', 'help', 'dampen', 'bushfir']"
      ]
     },
     "execution_count": 29,
     "metadata": {},
     "output_type": "execute_result"
    }
   ],
   "source": [
    "'''\n",
    "Text of sample document 4310\n",
    "'''\n",
    "processed_docs[4310]"
   ]
  },
  {
   "cell_type": "code",
   "execution_count": 42,
   "metadata": {},
   "outputs": [
    {
     "name": "stdout",
     "output_type": "stream",
     "text": [
      "\n",
      "Score: 0.3810116648674011\t \n",
      "Topic: 0.030*\"fund\" + 0.024*\"group\" + 0.022*\"govt\" + 0.018*\"health\" + 0.016*\"seek\" + 0.016*\"consid\" + 0.016*\"help\" + 0.015*\"record\" + 0.014*\"support\" + 0.014*\"indigen\" + 0.012*\"communiti\"\n",
      "\n",
      "Score: 0.2589860260486603\t \n",
      "Topic: 0.052*\"water\" + 0.035*\"plan\" + 0.021*\"council\" + 0.017*\"drought\" + 0.017*\"power\" + 0.017*\"road\" + 0.015*\"back\" + 0.015*\"year\" + 0.015*\"farmer\" + 0.014*\"push\" + 0.014*\"resid\"\n",
      "\n",
      "Score: 0.2200000286102295\t \n",
      "Topic: 0.042*\"govt\" + 0.034*\"urg\" + 0.021*\"hous\" + 0.021*\"closer\" + 0.017*\"minist\" + 0.017*\"defend\" + 0.014*\"blaze\" + 0.013*\"hold\" + 0.013*\"hick\" + 0.011*\"leav\" + 0.010*\"farm\"\n",
      "\n",
      "Score: 0.020002298057079315\t \n",
      "Topic: 0.021*\"warn\" + 0.018*\"test\" + 0.017*\"green\" + 0.016*\"howard\" + 0.014*\"coast\" + 0.014*\"troop\" + 0.014*\"nuclear\" + 0.013*\"work\" + 0.013*\"south\" + 0.012*\"play\" + 0.012*\"timor\"\n",
      "\n",
      "Score: 0.019999999552965164\t \n",
      "Topic: 0.021*\"nation\" + 0.020*\"hospit\" + 0.019*\"school\" + 0.018*\"worker\" + 0.017*\"open\" + 0.015*\"union\" + 0.014*\"mayor\" + 0.013*\"say\" + 0.013*\"rudd\" + 0.012*\"need\" + 0.012*\"plan\"\n",
      "\n",
      "Score: 0.019999999552965164\t \n",
      "Topic: 0.030*\"kill\" + 0.028*\"claim\" + 0.025*\"continu\" + 0.023*\"labor\" + 0.022*\"reject\" + 0.022*\"opposit\" + 0.018*\"iraq\" + 0.015*\"deni\" + 0.014*\"get\" + 0.014*\"govt\" + 0.013*\"leader\"\n",
      "\n",
      "Score: 0.019999999552965164\t \n",
      "Topic: 0.024*\"sydney\" + 0.022*\"forc\" + 0.017*\"price\" + 0.012*\"offic\" + 0.011*\"sale\" + 0.010*\"want\" + 0.010*\"research\" + 0.010*\"climat\" + 0.010*\"bush\" + 0.009*\"scheme\" + 0.009*\"control\"\n",
      "\n",
      "Score: 0.019999999552965164\t \n",
      "Topic: 0.026*\"aust\" + 0.021*\"lead\" + 0.017*\"chang\" + 0.016*\"case\" + 0.016*\"break\" + 0.015*\"take\" + 0.014*\"england\" + 0.014*\"australia\" + 0.012*\"win\" + 0.012*\"releas\" + 0.011*\"aussi\"\n",
      "\n",
      "Score: 0.019999999552965164\t \n",
      "Topic: 0.091*\"polic\" + 0.025*\"investig\" + 0.024*\"miss\" + 0.016*\"search\" + 0.014*\"probe\" + 0.014*\"death\" + 0.012*\"victim\" + 0.012*\"crash\" + 0.012*\"train\" + 0.012*\"lose\" + 0.011*\"bodi\"\n",
      "\n",
      "Score: 0.019999999552965164\t \n",
      "Topic: 0.037*\"charg\" + 0.032*\"court\" + 0.030*\"face\" + 0.023*\"crash\" + 0.022*\"attack\" + 0.022*\"jail\" + 0.019*\"home\" + 0.016*\"accus\" + 0.016*\"concern\" + 0.015*\"die\" + 0.015*\"drug\"\n"
     ]
    }
   ],
   "source": [
    "'''\n",
    "Check which topic our test document belongs to using the LDA Bag of Words model.\n",
    "'''\n",
    "document_num = 4310\n",
    "# Our test document is document number 4310\n",
    "\n",
    "# TODO\n",
    "# Our test document is document number 4310\n",
    "for index, score in sorted(lda_model[bow_corpus[document_num]], key=lambda tup: -1*tup[1]):\n",
    "    print(\"\\nScore: {}\\t \\nTopic: {}\".format(score, lda_model.print_topic(index, 11)))"
   ]
  },
  {
   "cell_type": "markdown",
   "metadata": {},
   "source": [
    "### It has the highest probability (`x`) to be  part of the topic that we assigned as X, which is the accurate classification. ###"
   ]
  },
  {
   "cell_type": "markdown",
   "metadata": {},
   "source": [
    "## Step 5.2: Performance evaluation by classifying sample document using LDA TF-IDF model##"
   ]
  },
  {
   "cell_type": "code",
   "execution_count": 34,
   "metadata": {},
   "outputs": [
    {
     "data": {
      "text/plain": [
       "[(76, 1), (113, 1), (482, 1), (4016, 1)]"
      ]
     },
     "execution_count": 34,
     "metadata": {},
     "output_type": "execute_result"
    }
   ],
   "source": [
    "bow_corpus[document_num]"
   ]
  },
  {
   "cell_type": "code",
   "execution_count": 36,
   "metadata": {},
   "outputs": [
    {
     "data": {
      "text/plain": [
       "[(0, 0.50994951),\n",
       " (1, 0.020009616),\n",
       " (2, 0.02),\n",
       " (3, 0.020002555),\n",
       " (4, 0.020001207),\n",
       " (5, 0.020000553),\n",
       " (6, 0.020001248),\n",
       " (7, 0.02000124),\n",
       " (8, 0.020000953),\n",
       " (9, 0.33003312)]"
      ]
     },
     "execution_count": 36,
     "metadata": {},
     "output_type": "execute_result"
    }
   ],
   "source": [
    "lda_model_tfidf[bow_corpus[document_num]]"
   ]
  },
  {
   "cell_type": "code",
   "execution_count": 31,
   "metadata": {},
   "outputs": [
    {
     "name": "stdout",
     "output_type": "stream",
     "text": [
      "\n",
      "Score: 0.5100136399269104\t \n",
      "Topic: 0.012*\"govt\" + 0.011*\"blaze\" + 0.009*\"fund\" + 0.009*\"urg\" + 0.009*\"firefight\" + 0.008*\"park\" + 0.008*\"nation\" + 0.008*\"bushfir\" + 0.008*\"council\" + 0.008*\"coast\"\n",
      "\n",
      "Score: 0.32996946573257446\t \n",
      "Topic: 0.015*\"hick\" + 0.012*\"nuclear\" + 0.010*\"climat\" + 0.009*\"futur\" + 0.008*\"sentenc\" + 0.008*\"burn\" + 0.007*\"link\" + 0.007*\"korea\" + 0.006*\"fiji\" + 0.006*\"sailor\"\n",
      "\n",
      "Score: 0.020009160041809082\t \n",
      "Topic: 0.014*\"search\" + 0.013*\"miss\" + 0.011*\"water\" + 0.011*\"timor\" + 0.010*\"polic\" + 0.009*\"murray\" + 0.008*\"river\" + 0.008*\"damag\" + 0.008*\"rescu\" + 0.007*\"question\"\n",
      "\n",
      "Score: 0.02000255510210991\t \n",
      "Topic: 0.012*\"opposit\" + 0.011*\"test\" + 0.010*\"guilti\" + 0.010*\"law\" + 0.010*\"iran\" + 0.008*\"stand\" + 0.008*\"dead\" + 0.008*\"blast\" + 0.007*\"plead\" + 0.007*\"baghdad\"\n",
      "\n",
      "Score: 0.02000124752521515\t \n",
      "Topic: 0.014*\"teen\" + 0.012*\"break\" + 0.011*\"power\" + 0.010*\"prompt\" + 0.010*\"child\" + 0.009*\"build\" + 0.009*\"find\" + 0.007*\"cancer\" + 0.007*\"resign\" + 0.007*\"scientist\"\n",
      "\n",
      "Score: 0.020001240074634552\t \n",
      "Topic: 0.009*\"resid\" + 0.008*\"south\" + 0.008*\"govt\" + 0.008*\"farm\" + 0.008*\"market\" + 0.008*\"liber\" + 0.007*\"announc\" + 0.007*\"green\" + 0.007*\"drink\" + 0.007*\"qanta\"\n",
      "\n",
      "Score: 0.020001206547021866\t \n",
      "Topic: 0.012*\"kill\" + 0.012*\"howard\" + 0.011*\"polic\" + 0.010*\"fatal\" + 0.010*\"bodi\" + 0.010*\"deal\" + 0.010*\"crash\" + 0.009*\"attack\" + 0.009*\"price\" + 0.008*\"sale\"\n",
      "\n",
      "Score: 0.02000095136463642\t \n",
      "Topic: 0.016*\"rudd\" + 0.011*\"offic\" + 0.011*\"victim\" + 0.010*\"shoot\" + 0.009*\"releas\" + 0.009*\"condit\" + 0.009*\"iemma\" + 0.008*\"violenc\" + 0.007*\"challeng\" + 0.007*\"clean\"\n",
      "\n",
      "Score: 0.020000552758574486\t \n",
      "Topic: 0.014*\"die\" + 0.014*\"charg\" + 0.013*\"murder\" + 0.013*\"crash\" + 0.012*\"assault\" + 0.011*\"polic\" + 0.011*\"melbourn\" + 0.010*\"sydney\" + 0.010*\"court\" + 0.010*\"woman\"\n",
      "\n",
      "Score: 0.019999999552965164\t \n",
      "Topic: 0.041*\"closer\" + 0.012*\"elect\" + 0.010*\"region\" + 0.010*\"mayor\" + 0.009*\"blue\" + 0.009*\"author\" + 0.008*\"critic\" + 0.008*\"victori\" + 0.008*\"poll\" + 0.008*\"accid\"\n"
     ]
    }
   ],
   "source": [
    "'''\n",
    "Check which topic our test document belongs to using the LDA TF-IDF model.\n",
    "'''\n",
    "# Our test document is document number 4310\n",
    "for index, score in sorted(lda_model_tfidf[bow_corpus[document_num]], key=lambda tup: -1*tup[1]):\n",
    "    print(\"\\nScore: {}\\t \\nTopic: {}\".format(score, lda_model_tfidf.print_topic(index, 10)))"
   ]
  },
  {
   "cell_type": "markdown",
   "metadata": {},
   "source": [
    "### It has the highest probability (`x%`) to be  part of the topic that we assigned as X. ###"
   ]
  },
  {
   "cell_type": "markdown",
   "metadata": {},
   "source": [
    "## Step 6: Testing model on unseen document ##"
   ]
  },
  {
   "cell_type": "code",
   "execution_count": 37,
   "metadata": {},
   "outputs": [
    {
     "name": "stdout",
     "output_type": "stream",
     "text": [
      "Score: 0.42000001668930054\t Topic: 0.042*\"govt\" + 0.034*\"urg\" + 0.021*\"hous\" + 0.021*\"closer\" + 0.017*\"minist\"\n",
      "Score: 0.2199999839067459\t Topic: 0.091*\"polic\" + 0.025*\"investig\" + 0.024*\"miss\" + 0.016*\"search\" + 0.014*\"probe\"\n",
      "Score: 0.21999995410442352\t Topic: 0.024*\"sydney\" + 0.022*\"forc\" + 0.017*\"price\" + 0.012*\"offic\" + 0.011*\"sale\"\n",
      "Score: 0.019999999552965164\t Topic: 0.021*\"nation\" + 0.020*\"hospit\" + 0.019*\"school\" + 0.018*\"worker\" + 0.017*\"open\"\n",
      "Score: 0.019999999552965164\t Topic: 0.030*\"kill\" + 0.028*\"claim\" + 0.025*\"continu\" + 0.023*\"labor\" + 0.022*\"reject\"\n",
      "Score: 0.019999999552965164\t Topic: 0.021*\"warn\" + 0.018*\"test\" + 0.017*\"green\" + 0.016*\"howard\" + 0.014*\"coast\"\n",
      "Score: 0.019999999552965164\t Topic: 0.052*\"water\" + 0.035*\"plan\" + 0.021*\"council\" + 0.017*\"drought\" + 0.017*\"power\"\n",
      "Score: 0.019999999552965164\t Topic: 0.026*\"aust\" + 0.021*\"lead\" + 0.017*\"chang\" + 0.016*\"case\" + 0.016*\"break\"\n",
      "Score: 0.019999999552965164\t Topic: 0.030*\"fund\" + 0.024*\"group\" + 0.022*\"govt\" + 0.018*\"health\" + 0.016*\"seek\"\n",
      "Score: 0.019999999552965164\t Topic: 0.037*\"charg\" + 0.032*\"court\" + 0.030*\"face\" + 0.023*\"crash\" + 0.022*\"attack\"\n"
     ]
    }
   ],
   "source": [
    "unseen_document = \"My favorite sports activities are running and swimming.\"\n",
    "\n",
    "# Data preprocessing step for the unseen document\n",
    "bow_vector = dictionary.doc2bow(preprocess(unseen_document))\n",
    "\n",
    "for index, score in sorted(lda_model[bow_vector], key=lambda tup: -1*tup[1]):\n",
    "    print(\"Score: {}\\t Topic: {}\".format(score, lda_model.print_topic(index, 5)))"
   ]
  },
  {
   "cell_type": "markdown",
   "metadata": {},
   "source": [
    "The model correctly classifies the unseen document with 'x'% probability to the X category."
   ]
  }
 ],
 "metadata": {
  "kernelspec": {
   "display_name": "Python 3",
   "language": "python",
   "name": "python3"
  },
  "language_info": {
   "codemirror_mode": {
    "name": "ipython",
    "version": 3
   },
   "file_extension": ".py",
   "mimetype": "text/x-python",
   "name": "python",
   "nbconvert_exporter": "python",
   "pygments_lexer": "ipython3",
   "version": "3.6.3"
  }
 },
 "nbformat": 4,
 "nbformat_minor": 1
}
